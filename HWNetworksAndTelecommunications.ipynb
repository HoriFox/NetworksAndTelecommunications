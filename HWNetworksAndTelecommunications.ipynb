{
 "cells": [
  {
   "cell_type": "markdown",
   "metadata": {},
   "source": [
    "#### Дз по дисциплине \"Сети и телекоммуникации\"\n",
    "Вариант 23 | Ханмурзин Тагир  \n",
    "Код Хэмминга [7,4] | Обнаруживающая способность кода"
   ]
  },
  {
   "cell_type": "code",
   "execution_count": 27,
   "metadata": {},
   "outputs": [
    {
     "name": "stdout",
     "output_type": "stream",
     "text": [
      "Информационный вектор (1 или 0 через пробел): 1 1 1 0\n",
      "[('C_111', 1), ('C_110', 1), ('C_101', 1), ('C_100', 1), ('C_011', 0), ('C_010', 0), ('C_001', 0)]\n"
     ]
    }
   ],
   "source": [
    "informationVector = []\n",
    "\n",
    "def inputInformationVector():\n",
    "    global informationVector\n",
    "    while (len(informationVector) != 4):\n",
    "        informationVector = list(map(int, input(\"Информационный вектор (1 или 0 через пробел): \").split()))\n",
    "        \n",
    "def int2bool(v):\n",
    "    if (v == 1):\n",
    "        boolState = True\n",
    "    else:\n",
    "        boolState = False\n",
    "    return boolState\n",
    "    \n",
    "def logicalXor2(str1, str2):\n",
    "    return int(int2bool(str1) ^ int2bool(str2))\n",
    "    \n",
    "def logicalXor3(str1, str2, str3):\n",
    "    return int(int2bool(str1) ^ int2bool(str2) ^ int2bool(str3))\n",
    "\n",
    "def logicalXor4(str1, str2, str3, str4):\n",
    "    return int(int2bool(str1) ^ int2bool(str2) ^ int2bool(str3)^ int2bool(str4))\n",
    "            \n",
    "inputInformationVector() # Ввод информационного вектора\n",
    "\n",
    "# Дополняем информационный вектор\n",
    "vFirst = informationVector\n",
    "c001 = logicalXor3(int(vFirst[3]), int(vFirst[2]), int(vFirst[0]))\n",
    "c010 = logicalXor3(int(vFirst[3]), int(vFirst[1]), int(vFirst[0]))\n",
    "c100 = logicalXor3(int(vFirst[2]), int(vFirst[1]), int(vFirst[0]))\n",
    "\n",
    "vFirst.insert(3, c100)\n",
    "vFirst.insert(5, c010)\n",
    "vFirst.insert(6, c001)\n",
    "\n",
    "bitSystem = ['C_111', 'C_110', 'C_101', 'C_100', 'C_011', 'C_010', 'C_001']\n",
    "allOutput = list(zip(bitSystem, vFirst))\n",
    "print(allOutput)\n",
    "\n",
    "# 1 1 1 0"
   ]
  },
  {
   "cell_type": "code",
   "execution_count": 36,
   "metadata": {},
   "outputs": [
    {
     "name": "stdout",
     "output_type": "stream",
     "text": [
      "Сигнал ошибки e (7 символов) (1 или 0 через пробел): 0 0 0 0 0 0 1\n",
      "Искажённый кодовый вектор: [1, 1, 1, 1, 0, 0, 1]\n"
     ]
    }
   ],
   "source": [
    "import numpy as np\n",
    "\n",
    "errorSignal = []\n",
    "def inputErrorSignal():\n",
    "    global errorSignal\n",
    "    while (len(errorSignal) != 7):\n",
    "        errorSignal = list(map(int, input(\"Сигнал ошибки e (7 символов) (1 или 0 через пробел): \").split()))\n",
    "\n",
    "inputErrorSignal() # Ввод сигнала ошибки\n",
    "\n",
    "vSecond = []\n",
    "for i in range(0, len(vFirst)):\n",
    "     vSecond.append(logicalXor2(vFirst[i], errorSignal[i]))\n",
    "print(\"Искажённый кодовый вектор:\", vSecond)\n",
    "\n",
    "# 0 0 0 0 0 0 1"
   ]
  },
  {
   "cell_type": "code",
   "execution_count": 37,
   "metadata": {},
   "outputs": [
    {
     "name": "stdout",
     "output_type": "stream",
     "text": [
      "Синдром ошибки: 001\n",
      "Разряд для инверсии и устранения ошибки: 1\n"
     ]
    }
   ],
   "source": [
    "h = []\n",
    "h.insert(0, str(logicalXor4(vSecond[6], vSecond[4], vSecond[2], vSecond[0])))\n",
    "h.insert(0, str(logicalXor4(vSecond[5], vSecond[4], vSecond[1], vSecond[0])))\n",
    "h.insert(0, str(logicalXor4(vSecond[3], vSecond[2], vSecond[1], vSecond[0])))\n",
    "\n",
    "errorSyndrome = ''.join(h)\n",
    "print(\"Синдром ошибки:\", errorSyndrome)\n",
    "eliminatedDischarge = int(errorSyndrome, 2)\n",
    "print(\"Разряд для инверсии и устранения ошибки:\", eliminatedDischarge) "
   ]
  },
  {
   "cell_type": "code",
   "execution_count": 42,
   "metadata": {},
   "outputs": [
    {
     "name": "stdout",
     "output_type": "stream",
     "text": [
      "До исправления:    [1, 1, 1, 1, 0, 0, 1]\n",
      "После исправления: [1, 1, 1, 1, 0, 0, 0]\n"
     ]
    }
   ],
   "source": [
    "print (\"До исправления:   \", vSecond)\n",
    "invertedNumber = 7 - eliminatedDischarge\n",
    "vSecond[invertedNumber] = vSecond[invertedNumber] ^ 1\n",
    "print (\"После исправления:\", vSecond)"
   ]
  },
  {
   "cell_type": "code",
   "execution_count": null,
   "metadata": {},
   "outputs": [],
   "source": []
  }
 ],
 "metadata": {
  "kernelspec": {
   "display_name": "Python 3",
   "language": "python",
   "name": "python3"
  },
  "language_info": {
   "codemirror_mode": {
    "name": "ipython",
    "version": 3
   },
   "file_extension": ".py",
   "mimetype": "text/x-python",
   "name": "python",
   "nbconvert_exporter": "python",
   "pygments_lexer": "ipython3",
   "version": "3.6.4"
  }
 },
 "nbformat": 4,
 "nbformat_minor": 2
}
